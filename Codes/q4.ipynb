{
 "cells": [
  {
   "cell_type": "markdown",
   "metadata": {},
   "source": [
    "# Hybrid Images"
   ]
  },
  {
   "cell_type": "markdown",
   "metadata": {},
   "source": [
    "## getting fourier transform"
   ]
  },
  {
   "cell_type": "code",
   "execution_count": 23,
   "metadata": {},
   "outputs": [
    {
     "data": {
      "text/plain": [
       "True"
      ]
     },
     "execution_count": 23,
     "metadata": {},
     "output_type": "execute_result"
    }
   ],
   "source": [
    "import cv2\n",
    "import numpy as np\n",
    "import math\n",
    "import matplotlib.pyplot as plt\n",
    "\n",
    "#reading images and get fourier transform and shift them\n",
    "near_image = cv2.imread('near03.jpg')\n",
    "near_image_gray = cv2.cvtColor(near_image, cv2.COLOR_BGR2GRAY)\n",
    "f_near_image = np.fft.fft2(near_image_gray)\n",
    "f_near_shift = np.fft.fftshift(f_near_image)\n",
    "far_image = cv2.imread('far04.jpg')\n",
    "far_image_gray = cv2.cvtColor(far_image, cv2.COLOR_BGR2GRAY)\n",
    "f_far_image = np.fft.fft2(far_image_gray)\n",
    "f_far_shift = np.fft.fftshift(f_far_image)\n",
    "\n",
    "#save log of images\n",
    "cv2.imwrite('near_dft_05.jpg', 20 * np.log(np.abs(f_near_shift)))\n",
    "cv2.imwrite('far_dft_06.jpg', 20 * np.log(np.abs(f_far_shift)))"
   ]
  },
  {
   "cell_type": "markdown",
   "metadata": {},
   "source": [
    "## gassian filtering"
   ]
  },
  {
   "cell_type": "code",
   "execution_count": null,
   "metadata": {},
   "outputs": [],
   "source": [
    "#function for gaussian filter\n",
    "def gaussian_filter(image, sigma, highpass):\n",
    "    y, x = image.shape\n",
    "    gauss_filter = np.zeros((y, x), dtype=complex)\n",
    "    for j in range(y):\n",
    "        for i in range(x):\n",
    "            if highpass:\n",
    "                gauss_filter[j, i] = image[j, i] * (1 - math.exp(-((i - x//2)**2+(j - y//2)**2) / (2*sigma**2)))\n",
    "            else:\n",
    "                gauss_filter[j, i] = image[j, i] * math.exp(-((i - x//2)**2+(j - y//2)**2) / (2*sigma**2))\n",
    "                \n",
    "    return gauss_filter\n",
    "\n",
    "#filtering images\n",
    "s = 200\n",
    "r = 100\n",
    "f_near_filter = gaussian_filter(f_near_shift, r, True)\n",
    "f_far_filter = gaussian_filter(f_far_shift, s, False)\n",
    "\n",
    "cv2.imwrite('highpass07.jpg', np.abs(f_near_filter))\n",
    "cv2.imwrite('lowpass08.jpg', np.abs(f_far_filter))"
   ]
  },
  {
   "cell_type": "markdown",
   "metadata": {},
   "source": [
    "## cutting off"
   ]
  },
  {
   "cell_type": "code",
   "execution_count": 6,
   "metadata": {},
   "outputs": [
    {
     "data": {
      "text/plain": [
       "True"
      ]
     },
     "execution_count": 6,
     "metadata": {},
     "output_type": "execute_result"
    }
   ],
   "source": [
    "def cutoff(image, value, highpass):\n",
    "    new_image = image\n",
    "    y, x = image.shape\n",
    "    for i in range(x):\n",
    "        for j in range(y):\n",
    "            if highpass:\n",
    "                if (i - x//2)**2 + (j - y//2)**2 <= value**2:\n",
    "                    new_image[j, i] = 0\n",
    "            else:\n",
    "                if (i - x//2)**2 + (j - y//2)**2 >= value**2:\n",
    "                    new_image[j, i] = 0\n",
    "    return new_image\n",
    "near_cutoff = 5\n",
    "far_cutoff = 10\n",
    "cutoff_near = cutoff(f_near_filter, near_cutoff, True)\n",
    "cutoff_far = cutoff(f_far_filter, far_cutoff, False)\n",
    "\n",
    "cv2.imwrite('highpassed09.jpg', np.abs(cutoff_near))\n",
    "cv2.imwrite('lowpassed10.jpg', np.abs(cutoff_far))"
   ]
  },
  {
   "cell_type": "markdown",
   "metadata": {},
   "source": [
    "## Combination of two images"
   ]
  },
  {
   "cell_type": "code",
   "execution_count": 8,
   "metadata": {},
   "outputs": [
    {
     "data": {
      "text/plain": [
       "True"
      ]
     },
     "execution_count": 8,
     "metadata": {},
     "output_type": "execute_result"
    }
   ],
   "source": [
    "y, x = cutoff_near.shape\n",
    "final_image = np.zeros(cutoff_near.shape, dtype = complex)\n",
    "a, b = 1, 1\n",
    "for j in range(y):\n",
    "    for i in range(x):\n",
    "        if (j - y//2)**2 + (i - x//2)**2 <= near_cutoff**2:\n",
    "            final_image[j, i] = cutoff_far[j, i]\n",
    "        elif (j - y//2)**2 + (i - x//2)**2 >= far_cutoff**2:\n",
    "            final_image[j, i] = cutoff_near[j, i]\n",
    "        else:\n",
    "            final_image[j, i] = (a * cutoff_near[j, i] + b * cutoff_far[j, i]) / (a + b)\n",
    "cv2.imwrite('freauency_hybrid11.jpg', np.abs(final_image))\n",
    "final_image = np.fft.ifftshift(final_image)\n",
    "final_image = np.fft.ifft2(final_image)\n",
    "final_image = np.abs(final_image)\n",
    "cv2.imwrite('final_near.jpg', final_image)"
   ]
  },
  {
   "cell_type": "code",
   "execution_count": null,
   "metadata": {},
   "outputs": [],
   "source": []
  }
 ],
 "metadata": {
  "kernelspec": {
   "display_name": "Python 3",
   "language": "python",
   "name": "python3"
  },
  "language_info": {
   "codemirror_mode": {
    "name": "ipython",
    "version": 3
   },
   "file_extension": ".py",
   "mimetype": "text/x-python",
   "name": "python",
   "nbconvert_exporter": "python",
   "pygments_lexer": "ipython3",
   "version": "3.7.6"
  }
 },
 "nbformat": 4,
 "nbformat_minor": 4
}
