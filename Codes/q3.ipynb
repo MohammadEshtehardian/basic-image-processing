{
 "cells": [
  {
   "cell_type": "markdown",
   "metadata": {},
   "source": [
    "# Line Detection"
   ]
  },
  {
   "cell_type": "markdown",
   "metadata": {},
   "source": [
    "## arbitrary image"
   ]
  },
  {
   "cell_type": "code",
   "execution_count": 14,
   "metadata": {},
   "outputs": [
    {
     "data": {
      "text/plain": [
       "True"
      ]
     },
     "execution_count": 14,
     "metadata": {},
     "output_type": "execute_result"
    }
   ],
   "source": [
    "import cv2\n",
    "import numpy as np\n",
    "\n",
    "image = cv2.imread('sudoku.jpg')\n",
    "gray_image = cv2.cvtColor(image, cv2.COLOR_BGR2GRAY) #convert to gray\n",
    "edges = cv2.Canny(gray_image, 50, 120, apertureSize = 3) #detecting edges\n",
    "lines = cv2.HoughLines(edges, 1, np.pi/180, 150) #detecting lines\n",
    "#draw lines\n",
    "for line in lines:\n",
    "    rho, theta = line[0]\n",
    "    a = np.cos(theta)\n",
    "    b = np.sin(theta)\n",
    "    x0 = a * rho\n",
    "    y0 = b * rho\n",
    "    x1 = int(x0 + 1000 * (-b))\n",
    "    y1 = int(y0 + 1000 * (a))\n",
    "    x2 = int(x0 - 1000 *(-b))\n",
    "    y2 = int(y0 - 1000 * (a))\n",
    "    cv2.line(image, (x1, y1), (x2, y2), (0, 0, 255), 1)\n",
    "#save image\n",
    "cv2.imwrite('Line1.jpg', image)"
   ]
  },
  {
   "cell_type": "markdown",
   "metadata": {},
   "source": [
    "## Detect Lines in Line.jpg "
   ]
  },
  {
   "cell_type": "code",
   "execution_count": 16,
   "metadata": {},
   "outputs": [],
   "source": [
    "minlength = [10, 100, 250]\n",
    "\n",
    "for length in minlength:\n",
    "    image = cv2.imread('Line.jpg') #reading image\n",
    "    gray_image = cv2.cvtColor(image, cv2.COLOR_BGR2GRAY) #convert to gray\n",
    "    edges = cv2.Canny(gray_image, 50, 150, apertureSize = 3) #detecting edges\n",
    "    lines = cv2.HoughLines(edges, 1, np.pi/180, length) #detecting lines\n",
    "    #draw lines\n",
    "    for line in lines:\n",
    "        rho, theta = line[0]\n",
    "        a = np.cos(theta)\n",
    "        b = np.sin(theta)\n",
    "        x0 = a * rho\n",
    "        y0 = b * rho\n",
    "        x1 = int(x0 + 1000 * (-b))\n",
    "        y1 = int(y0 + 1000 * (a))\n",
    "        x2 = int(x0 - 1000 *(-b))\n",
    "        y2 = int(y0 - 1000 * (a))\n",
    "        cv2.line(image, (x1, y1), (x2, y2), (0, 0, 255), 1)\n",
    "    #save images\n",
    "    string = 'res3_{}.jpg'.format(length)\n",
    "    cv2.imwrite(string, image)"
   ]
  },
  {
   "cell_type": "code",
   "execution_count": null,
   "metadata": {},
   "outputs": [],
   "source": []
  }
 ],
 "metadata": {
  "kernelspec": {
   "display_name": "Python 3",
   "language": "python",
   "name": "python3"
  },
  "language_info": {
   "codemirror_mode": {
    "name": "ipython",
    "version": 3
   },
   "file_extension": ".py",
   "mimetype": "text/x-python",
   "name": "python",
   "nbconvert_exporter": "python",
   "pygments_lexer": "ipython3",
   "version": "3.7.6"
  }
 },
 "nbformat": 4,
 "nbformat_minor": 4
}
